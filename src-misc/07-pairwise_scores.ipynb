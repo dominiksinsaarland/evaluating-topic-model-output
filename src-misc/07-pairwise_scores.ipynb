{
 "cells": [
  {
   "cell_type": "code",
   "execution_count": 5,
   "metadata": {},
   "outputs": [
    {
     "name": "stdout",
     "output_type": "stream",
     "text": [
      "Intruder is black (5.20)\n",
      "Coherence is 6.27\n"
     ]
    }
   ],
   "source": [
    "import random\n",
    "import numpy as np\n",
    "random.seed(0)\n",
    "\n",
    "dataset = [\n",
    "    [\"red\", \"blue\", \"flag\", \"black\", \"sky\", \"sun\"]\n",
    "]\n",
    "\n",
    "\n",
    "def get_pairwise_similarity(word1, word2):\n",
    "    prompt = f'On a scale from 1 to 10, how similar are \"{word1}\" and \"{word2}\"? Your answer should be only the number and nothing else.'\n",
    "    # TODO: GPT prompt\n",
    "    return random.randint(1, 10)\n",
    "\n",
    "\n",
    "for words_line in dataset:\n",
    "    # create |W|*|W| list\n",
    "    results_line = [[None] * len(words_line) for _ in words_line]\n",
    "    for word1_i, word1 in enumerate(words_line):\n",
    "        for word2_i, word2 in enumerate(words_line):\n",
    "            # save up half the prompts\n",
    "            if word2_i <= word1_i:\n",
    "                continue\n",
    "            similarity = get_pairwise_similarity(word1, word2)\n",
    "            results_line[word1_i][word2_i] = similarity\n",
    "            results_line[word2_i][word1_i] = similarity\n",
    "\n",
    "    # remove None (on diagonal)\n",
    "    results_line = [\n",
    "        [x for x in similarities if x]\n",
    "        for similarities in results_line\n",
    "    ]\n",
    "\n",
    "    per_word_avg = [\n",
    "        np.average(similarities)\n",
    "        for similarities in results_line\n",
    "    ]\n",
    "    word_intruder_i = np.argmin(per_word_avg)\n",
    "    coherence = np.average(per_word_avg)\n",
    "\n",
    "    print(f\"Intruder is {words_line[word_intruder_i]} ({min(per_word_avg):.2f})\")\n",
    "    print(f\"Coherence is {coherence:.2f}\")\n"
   ]
  }
 ],
 "metadata": {
  "kernelspec": {
   "display_name": "Python 3.10.7 64-bit",
   "language": "python",
   "name": "python3"
  },
  "language_info": {
   "codemirror_mode": {
    "name": "ipython",
    "version": 3
   },
   "file_extension": ".py",
   "mimetype": "text/x-python",
   "name": "python",
   "nbconvert_exporter": "python",
   "pygments_lexer": "ipython3",
   "version": "3.10.7"
  },
  "orig_nbformat": 4,
  "vscode": {
   "interpreter": {
    "hash": "916dbcbb3f70747c44a77c7bcd40155683ae19c65e1c03b4aa3499c5328201f1"
   }
  }
 },
 "nbformat": 4,
 "nbformat_minor": 2
}
