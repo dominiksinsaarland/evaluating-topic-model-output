{
 "cells": [
  {
   "cell_type": "code",
   "execution_count": 1,
   "metadata": {},
   "outputs": [],
   "source": [
    "import json\n",
    "data = json.load(open(\"../data/intrusion.json\", \"r\"))"
   ]
  },
  {
   "cell_type": "code",
   "execution_count": null,
   "metadata": {},
   "outputs": [],
   "source": [
    "data[\"wikitext\"][\"mallet\"][\"metrics\"].keys()\n",
    "\n",
    "[(k, len(v), None if type(v[0]) != list else len(v[0])) for k, v in data[\"nytimes\"][\"mallet\"][\"metrics\"].items()]"
   ]
  },
  {
   "cell_type": "code",
   "execution_count": 2,
   "metadata": {},
   "outputs": [
    {
     "data": {
      "text/plain": [
       "['species',\n",
       " 'birds',\n",
       " 'males',\n",
       " 'females',\n",
       " 'bird',\n",
       " 'white',\n",
       " 'found',\n",
       " 'female',\n",
       " 'male',\n",
       " 'range',\n",
       " 'large',\n",
       " 'breeding',\n",
       " 'long',\n",
       " 'black',\n",
       " 'small',\n",
       " 'shark',\n",
       " 'population',\n",
       " 'common',\n",
       " 'prey',\n",
       " 'eggs']"
      ]
     },
     "execution_count": 2,
     "metadata": {},
     "output_type": "execute_result"
    }
   ],
   "source": [
    "data[\"wikitext\"][\"mallet\"][\"topics\"][1]"
   ]
  }
 ],
 "metadata": {
  "kernelspec": {
   "display_name": "Python 3.10.7 64-bit",
   "language": "python",
   "name": "python3"
  },
  "language_info": {
   "codemirror_mode": {
    "name": "ipython",
    "version": 3
   },
   "file_extension": ".py",
   "mimetype": "text/x-python",
   "name": "python",
   "nbconvert_exporter": "python",
   "pygments_lexer": "ipython3",
   "version": "3.10.7"
  },
  "orig_nbformat": 4,
  "vscode": {
   "interpreter": {
    "hash": "916dbcbb3f70747c44a77c7bcd40155683ae19c65e1c03b4aa3499c5328201f1"
   }
  }
 },
 "nbformat": 4,
 "nbformat_minor": 2
}
